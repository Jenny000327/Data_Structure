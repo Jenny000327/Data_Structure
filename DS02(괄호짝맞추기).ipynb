{
  "nbformat": 4,
  "nbformat_minor": 0,
  "metadata": {
    "colab": {
      "provenance": [],
      "toc_visible": true,
      "authorship_tag": "ABX9TyMwfuXbOb2UryH6kPr7e5kj",
      "include_colab_link": true
    },
    "kernelspec": {
      "name": "python3",
      "display_name": "Python 3"
    },
    "language_info": {
      "name": "python"
    }
  },
  "cells": [
    {
      "cell_type": "markdown",
      "metadata": {
        "id": "view-in-github",
        "colab_type": "text"
      },
      "source": [
        "<a href=\"https://colab.research.google.com/github/Jenny000327/Data_Structure/blob/main/DS02(%EA%B4%84%ED%98%B8%EC%A7%9D%EB%A7%9E%EC%B6%94%EA%B8%B0).ipynb\" target=\"_parent\"><img src=\"https://colab.research.google.com/assets/colab-badge.svg\" alt=\"Open In Colab\"/></a>"
      ]
    },
    {
      "cell_type": "markdown",
      "source": [
        "# 괄호 짝 맞추기"
      ],
      "metadata": {
        "id": "RkuApQSghaYX"
      }
    },
    {
      "cell_type": "code",
      "source": [
        "# class Stack 정의 \n",
        "class Stack:\n",
        "  def __init__(self):\n",
        "    self.items = []           # 데이터 저장을 위한 리스트 준비\n",
        "  \n",
        "  def push(self, val): \n",
        "    self.items.append(val)\n",
        "\n",
        "  def pop(self): \n",
        "    try:\n",
        "      return self.items.pop()  # pop할 아이템이 없으면 \n",
        "    except IndexError:         # indexError 발생\n",
        "      print(\"Stack is empty\")\n",
        "\n",
        "  def top(self): \n",
        "    try:\n",
        "      return self.items[-1] \n",
        "    except IndexError:\n",
        "      print(\"Stack is empty\")\n",
        "\n",
        "  def __len__(self):            # len()로 호출하면 stack의 item 수 반환\n",
        "    return len(self.items)\n",
        "  \n",
        "  def isEmpty(self): \n",
        "    return len(self) == 0\n",
        "\n",
        "\n"
      ],
      "metadata": {
        "id": "GUigg-hgkZ4I"
      },
      "execution_count": 2,
      "outputs": []
    },
    {
      "cell_type": "code",
      "source": [
        "def parChecker(parSeq):\n",
        "    S = Stack()\n",
        "    for c in parSeq:\n",
        "      if c == '(':\n",
        "        S.push(c)\n",
        "      else: #  닫기 괄호이면 \n",
        "        if S.isEmpty():\n",
        "          return False\n",
        "        S.pop()\n",
        "\n",
        "    if S.isEmpty():\n",
        "      return True\n",
        "    return False\n",
        "\n",
        "\n",
        "# __main__\n",
        "user_input = input()\n",
        "print(parChecker(user_input))"
      ],
      "metadata": {
        "colab": {
          "base_uri": "https://localhost:8080/"
        },
        "id": "v6RyN2ZG0wF-",
        "outputId": "5b2f8763-b516-4e77-8a17-79865b62555e"
      },
      "execution_count": 3,
      "outputs": [
        {
          "output_type": "stream",
          "name": "stdout",
          "text": [
            "(()())\n",
            "True\n"
          ]
        }
      ]
    },
    {
      "cell_type": "code",
      "source": [
        "def parChecker(symbolString):\n",
        "    S = Stack()\n",
        "\n",
        "    for symbol in symbolString:\n",
        "        if symbol in \"([{\":\n",
        "            S.push(symbol)\n",
        "        elif symbol in \")]}\":\n",
        "            if S.isEmpty():\n",
        "                return False\n",
        "            else:\n",
        "                left = S.pop()\n",
        "                if not matches(left, symbol):\n",
        "                    return False\n",
        "\n",
        "    return S.isEmpty()\n",
        "\n",
        "def matches(left, right):\n",
        "    lefts = \"([{\"\n",
        "    rights = \")]}\"\n",
        "    return lefts.index(left) == rights.index(right)\n"
      ],
      "metadata": {
        "id": "Ps8FRZty0nEM"
      },
      "execution_count": 4,
      "outputs": []
    },
    {
      "cell_type": "code",
      "source": [
        "user_input = input()\n",
        "print(parChecker(user_input))"
      ],
      "metadata": {
        "colab": {
          "base_uri": "https://localhost:8080/"
        },
        "id": "-ET2xVoZ0qDo",
        "outputId": "d2073d74-032f-4949-a417-2e88ad149814"
      },
      "execution_count": 7,
      "outputs": [
        {
          "output_type": "stream",
          "name": "stdout",
          "text": [
            "({[])}\n",
            "False\n"
          ]
        }
      ]
    }
  ]
}
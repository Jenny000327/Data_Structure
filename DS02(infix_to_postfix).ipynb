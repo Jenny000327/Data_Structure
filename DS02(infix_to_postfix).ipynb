{
  "nbformat": 4,
  "nbformat_minor": 0,
  "metadata": {
    "colab": {
      "provenance": [],
      "authorship_tag": "ABX9TyMpy+KFgd06tM5fi45dyLde",
      "include_colab_link": true
    },
    "kernelspec": {
      "name": "python3",
      "display_name": "Python 3"
    },
    "language_info": {
      "name": "python"
    }
  },
  "cells": [
    {
      "cell_type": "markdown",
      "metadata": {
        "id": "view-in-github",
        "colab_type": "text"
      },
      "source": [
        "<a href=\"https://colab.research.google.com/github/Jenny000327/Data_Structure/blob/main/DS02(infix_to_postfix).ipynb\" target=\"_parent\"><img src=\"https://colab.research.google.com/assets/colab-badge.svg\" alt=\"Open In Colab\"/></a>"
      ]
    },
    {
      "cell_type": "code",
      "execution_count": 4,
      "metadata": {
        "colab": {
          "base_uri": "https://localhost:8080/"
        },
        "id": "dURj-CCMGxkb",
        "outputId": "53d9ff75-f28b-4e9e-d58b-d142178f6e99"
      },
      "outputs": [
        {
          "output_type": "stream",
          "name": "stdout",
          "text": [
            "1 + ( 2 + 3 ) / 4\n",
            "Stack is empty\n",
            "1 2 3 + 4 / +\n"
          ]
        }
      ],
      "source": [
        "# class Stack 정의 \n",
        "class Stack:\n",
        "  def __init__(self):\n",
        "    self.items = []           # 데이터 저장을 위한 리스트 준비\n",
        "  \n",
        "  def push(self, val): \n",
        "    self.items.append(val)\n",
        "\n",
        "  def pop(self): \n",
        "    try:\n",
        "      return self.items.pop()  # pop할 아이템이 없으면 \n",
        "    except IndexError:         # indexError 발생\n",
        "      print(\"Stack is empty\")\n",
        "\n",
        "  def top(self): \n",
        "    try:\n",
        "      return self.items[-1] \n",
        "    except IndexError:\n",
        "      print(\"Stack is empty\")\n",
        "\n",
        "  def __len__(self):            # len()로 호출하면 stack의 item 수 반환\n",
        "    return len(self.items)\n",
        "  \n",
        "  def isEmpty(self): \n",
        "    return self.__len__() == 0\n",
        "\n",
        "def infix_to_postfix(infix):\n",
        "\n",
        "  opstack = Stack() # 괄호와 연산자 저장 \n",
        "  outstack = []  # postfix 수식 \n",
        "  token_list = infix.split(' ')\n",
        "  #print(token_list)\n",
        "\n",
        "  # 연산자의 우선순위 설정 \n",
        "  prec = {}\n",
        "  prec['('] = 0 \n",
        "  prec['+'] = 1\n",
        "  prec['-'] = 1\n",
        "  prec['*'] = 2  \n",
        "  prec['/'] = 2 \n",
        "  prec['^'] = 3 \n",
        "\n",
        "  for token in token_list:\n",
        "    if token == '(': # 우선순위 젤 낮음 : 닫힌괄호나와야 출력되도록하기위함 \n",
        "      opstack.push(token)\n",
        "    elif token == ')':\n",
        "      while True:\n",
        "        x = opstack.pop()\n",
        "        if x == '(':\n",
        "          break\n",
        "        outstack.append(x)\n",
        "    elif token in '+-/*^':\n",
        "      # opstack에 있는 자신보다 우선순위가 높거나 같은 연산자는\n",
        "      #  차례로 모두 pop한 후 outstack에 append함 \n",
        "      while True:\n",
        "        x = opstack.top()\n",
        "        if x is not None and prec[x] >= prec[token]: \n",
        "          outstack.append(opstack.pop())\n",
        "        else:\n",
        "          break\n",
        "      opstack.push(token)\n",
        "    else: # 피연산자 \n",
        "      outstack.append(token)\n",
        "\n",
        "  while not opstack.isEmpty():\n",
        "    outstack.append(opstack.pop())\n",
        "  \n",
        "  # opstack 에 남은 모든 연산자를 pop 후 outstack에 append \n",
        "  return \" \".join(outstack)\n",
        "\n",
        "\n",
        "infix_expr = input()\n",
        "postfix_expr = infix_to_postfix(infix_expr)\n",
        "print(postfix_expr)"
      ]
    }
  ]
}
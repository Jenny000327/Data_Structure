{
  "nbformat": 4,
  "nbformat_minor": 0,
  "metadata": {
    "colab": {
      "provenance": [],
      "authorship_tag": "ABX9TyM1ROstF8bl22suaki+EygK",
      "include_colab_link": true
    },
    "kernelspec": {
      "name": "python3",
      "display_name": "Python 3"
    },
    "language_info": {
      "name": "python"
    }
  },
  "cells": [
    {
      "cell_type": "markdown",
      "metadata": {
        "id": "view-in-github",
        "colab_type": "text"
      },
      "source": [
        "<a href=\"https://colab.research.google.com/github/Jenny000327/Data_Structure/blob/main/%EC%8A%A4%ED%83%9D%2C%ED%81%90%2C%EB%94%94%ED%81%90.ipynb\" target=\"_parent\"><img src=\"https://colab.research.google.com/assets/colab-badge.svg\" alt=\"Open In Colab\"/></a>"
      ]
    },
    {
      "cell_type": "code",
      "execution_count": 3,
      "metadata": {
        "colab": {
          "base_uri": "https://localhost:8080/"
        },
        "id": "Siw80zxb3Z7E",
        "outputId": "11b9641c-8f57-4cdf-c8ab-bf7e4aa14672"
      },
      "outputs": [
        {
          "output_type": "stream",
          "name": "stdout",
          "text": [
            "15\n"
          ]
        }
      ],
      "source": [
        "from collections import deque\n",
        "\n",
        "S = [] # 스택\n",
        "Q = deque() # 큐\n",
        "D = deque() # 데크\n",
        "\n",
        "# S와 Q에 숫자를 넣습니다.\n",
        "for i in range(1, 6):\n",
        "    S.append(i)\n",
        "    Q.append(2 * i)\n",
        "\n",
        "# D에 S와 Q에서 빼온 숫자의 합을 넣습니다.\n",
        "for _ in range(1, 6):\n",
        "    D.append(S.pop() + Q.popleft())\n",
        "\n",
        "s = 0\n",
        "for i in range(1, 6):\n",
        "    if i % 2:\n",
        "        s += D.pop() # D의 오른쪽에서부터 값을 빼서 더합니다.\n",
        "    else:\n",
        "        s -= D.popleft() # D의 왼쪽에서부터 값을 빼서 뺍니다.\n",
        "\n",
        "print(s) # 결과를 출력합니다.\n"
      ]
    }
  ]
}
{
  "nbformat": 4,
  "nbformat_minor": 0,
  "metadata": {
    "colab": {
      "provenance": [],
      "authorship_tag": "ABX9TyPUVRH0y7igz5XHsNEgA055",
      "include_colab_link": true
    },
    "kernelspec": {
      "name": "python3",
      "display_name": "Python 3"
    },
    "language_info": {
      "name": "python"
    }
  },
  "cells": [
    {
      "cell_type": "markdown",
      "metadata": {
        "id": "view-in-github",
        "colab_type": "text"
      },
      "source": [
        "<a href=\"https://colab.research.google.com/github/Jenny000327/Data_Structure/blob/main/%EC%9B%90%ED%98%95%EC%9D%B4%EC%A4%91%EC%97%B0%EA%B2%B0%EB%A6%AC%EC%8A%A4%ED%8A%B8%EB%A5%BC_%EC%9D%B4%EC%9A%A9%ED%95%9C_Josephus_%EB%AC%B8%EC%A0%9C_%EA%B5%AC%ED%98%84.ipynb\" target=\"_parent\"><img src=\"https://colab.research.google.com/assets/colab-badge.svg\" alt=\"Open In Colab\"/></a>"
      ]
    },
    {
      "cell_type": "markdown",
      "source": [
        "Josephus 문제는 n명의 사람이 원형으로 둘러선 상태에서, k번째 사람을 제외한 나머지 사람들 중에서 다시 k번째 사람을 제외하는 과정을 반복하여, 한 명이 남을 때까지 게임을 진행하는 문제.\n",
        "\n",
        "원형이중연결리스트를 이용해 구현\n",
        "\n",
        "\n",
        "\n",
        "---\n",
        "\n",
        "\n",
        "\n",
        "1. 1부터 n까지의 key 값을 갖는 노드를 pushBack 함수를 사용하여 리스트에 추가.\n",
        "2. 리스트의 head 노드를 가리키는 포인터 변수 p를 설정하고, p의 k번째 이전 노드를 찾아서 p와 p.prev의 링크를 끊는다.\n",
        "3. p가 가리키는 노드를 리스트에서 제거.\n",
        "4. 2-3 과정을 리스트에 노드가 한 개만 남을 때까지 반복.\n",
        "5. 남은 노드의 key 값을 반환."
      ],
      "metadata": {
        "id": "a3RaW7GYoKxw"
      }
    },
    {
      "cell_type": "code",
      "execution_count": 3,
      "metadata": {
        "id": "e8gEsAhBn5wC"
      },
      "outputs": [],
      "source": [
        "class Node:\n",
        "    def __init__(self, key):\n",
        "        self.prev = None\n",
        "        self.next = None\n",
        "        self.key = key\n",
        "\n",
        "class CircularDoublyLinkedList:\n",
        "    def __init__(self):\n",
        "        self.head = None\n",
        "\n",
        "    def pushBack(self, key):\n",
        "        node = Node(key)\n",
        "        if not self.head:\n",
        "            self.head = node\n",
        "            node.next = node\n",
        "            node.prev = node\n",
        "        else:\n",
        "            tail = self.head.prev\n",
        "            tail.next = node\n",
        "            node.prev = tail\n",
        "            node.next = self.head\n",
        "            self.head.prev = node\n",
        "            tail = node\n",
        "\n",
        "    def remove(self, node):\n",
        "        if node == self.head:\n",
        "            self.head = node.next\n",
        "        node.prev.next = node.next\n",
        "        node.next.prev = node.prev\n",
        "\n",
        "    def josephus(self, n, k):\n",
        "        # 1. 1부터 n까지의 key 값을 갖는 노드를 pushBack 함수를 사용하여 리스트에 추가\n",
        "        for i in range(1, n+1):\n",
        "            self.pushBack(i)\n",
        "\n",
        "        # 2-4. 리스트에서 k번째 이전 노드를 찾아서 노드를 제거하는 과정을 한 노드만 남을 때까지 반복\n",
        "        p = self.head\n",
        "        while p.next != p:\n",
        "            for i in range(k-1):\n",
        "                p = p.next\n",
        "            next_node = p.next\n",
        "            self.remove(p)\n",
        "            p = next_node\n",
        "\n",
        "        # 5. 마지막으로 남은 노드의 key 값을 반환\n",
        "        return p.key\n"
      ]
    },
    {
      "cell_type": "code",
      "source": [
        "n = 7\n",
        "k = 3\n",
        "\n",
        "cdl_list = CircularDoublyLinkedList()\n",
        "survivor = cdl_list.josephus(n, k)\n",
        "\n",
        "print(f\"원형이중연결리스트를 이용한 Josephus 문제 결과: {survivor}\")"
      ],
      "metadata": {
        "colab": {
          "base_uri": "https://localhost:8080/"
        },
        "id": "0pG2KBNQoBLJ",
        "outputId": "e33dbcd0-307b-45fb-a814-5a74cf658331"
      },
      "execution_count": 4,
      "outputs": [
        {
          "output_type": "stream",
          "name": "stdout",
          "text": [
            "원형이중연결리스트를 이용한 Josephus 문제 결과: 4\n"
          ]
        }
      ]
    }
  ]
}
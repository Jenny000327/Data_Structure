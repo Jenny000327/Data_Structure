{
  "nbformat": 4,
  "nbformat_minor": 0,
  "metadata": {
    "colab": {
      "provenance": [],
      "toc_visible": true,
      "authorship_tag": "ABX9TyPl0PGkYQz0l7t5c2VuXRKq",
      "include_colab_link": true
    },
    "kernelspec": {
      "name": "python3",
      "display_name": "Python 3"
    },
    "language_info": {
      "name": "python"
    }
  },
  "cells": [
    {
      "cell_type": "markdown",
      "metadata": {
        "id": "view-in-github",
        "colab_type": "text"
      },
      "source": [
        "<a href=\"https://colab.research.google.com/github/Jenny000327/Data_Structure/blob/main/Big_O.ipynb\" target=\"_parent\"><img src=\"https://colab.research.google.com/assets/colab-badge.svg\" alt=\"Open In Colab\"/></a>"
      ]
    },
    {
      "cell_type": "markdown",
      "source": [
        "### 1.배열 A의 요소들을 역순으로 정렬하는 함수"
      ],
      "metadata": {
        "id": "vIH4RIcQXCKU"
      }
    },
    {
      "cell_type": "code",
      "execution_count": 2,
      "metadata": {
        "colab": {
          "base_uri": "https://localhost:8080/"
        },
        "id": "j8X_OV3HWiz0",
        "outputId": "e4264b6e-dd6c-4774-b6ba-f61c8bc819bf"
      },
      "outputs": [
        {
          "output_type": "stream",
          "name": "stdout",
          "text": [
            "[5, 4, 3, 2, 1]\n"
          ]
        }
      ],
      "source": [
        "def do_something(A, n):\n",
        "    for i in range(n//2):\n",
        "        c = A[i]\n",
        "        A[i] = A[n-1-i]\n",
        "        A[n-1-i] = c\n",
        "    print(A)\n",
        "\n",
        "A = [1,2,3,4,5]\n",
        "n=5\n",
        "do_something(A,n)"
      ]
    },
    {
      "cell_type": "markdown",
      "source": [
        "### 2.크기가 n인 배열에서 가능한 모든 부분 배열(subarray)의 수를 계산하는 함수\n",
        "\n",
        "\n",
        "---\n",
        "\n",
        "1. count 변수를 0으로 초기화\n",
        "2. i,j,k를 이용하여 3중 반복문을 실행\n",
        "\n",
        "\n",
        "> i와 k는 모두 0부터 n-1까지 반복\n",
        "> k는 1부터 n보다 작은 2의 거듭제곱까지 반복\n",
        "\n",
        "3. 각 반복에서 couont변수를 1씩 증가시킨다.\n",
        "\n"
      ],
      "metadata": {
        "id": "BzonLLZzXJQc"
      }
    },
    {
      "cell_type": "code",
      "source": [
        "def do_something(n):\n",
        "    count = 0\n",
        "    for i in range(n):\n",
        "        for j in range(n):\n",
        "            k = 1\n",
        "            while k < n:\n",
        "                count += 1\n",
        "                k *= 2\n",
        "    return count\n",
        "\n",
        "n=5\n",
        "do_something(n)"
      ],
      "metadata": {
        "colab": {
          "base_uri": "https://localhost:8080/"
        },
        "id": "2r1RV2-CYI86",
        "outputId": "70696202-5185-4fd1-9e67-dfba482626ef"
      },
      "execution_count": 3,
      "outputs": [
        {
          "output_type": "execute_result",
          "data": {
            "text/plain": [
              "75"
            ]
          },
          "metadata": {},
          "execution_count": 3
        }
      ]
    },
    {
      "cell_type": "markdown",
      "source": [
        "### 3.정수 n의 약수의 개수를 계산하는 함수\n",
        "\n",
        "\n",
        "---\n",
        "\n",
        "1. count와 k 변수를 각각 0과1로 초기화\n",
        "2. k가 n의 제곱근보다 작을 때까지 반복\n",
        "\n",
        "> k 가 n의 약수인 경우 count 2증가\n",
        "\n",
        "> k 가 n의 제곱근인 경우 count를 1 증가\n",
        "\n",
        "> k를 1 증가\n",
        "\n",
        "3. count 값을 반환   "
      ],
      "metadata": {
        "id": "9O0k7LaYgh77"
      }
    },
    {
      "cell_type": "code",
      "source": [
        "def number_of_factors(n):\n",
        "    count, k = 0, 1\n",
        "    while k * k < n:\n",
        "        if n % k == 0:\n",
        "            count += 2\n",
        "        k += 1\n",
        "    if k * k == n:\n",
        "        count += 1\n",
        "    return count\n",
        "\n",
        "n = 24\n",
        "number_of_factors(n)"
      ],
      "metadata": {
        "colab": {
          "base_uri": "https://localhost:8080/"
        },
        "id": "YLOFkvyxhrr3",
        "outputId": "4a63d445-34a8-44b0-bc66-b38ee8d2d233"
      },
      "execution_count": 5,
      "outputs": [
        {
          "output_type": "execute_result",
          "data": {
            "text/plain": [
              "8"
            ]
          },
          "metadata": {},
          "execution_count": 5
        }
      ]
    },
    {
      "cell_type": "markdown",
      "source": [
        "### 4.주어진 정수 n보다 작거나같은 제곱수의 개수를 계산하는 함수\n",
        "\n",
        "---\n",
        "\n",
        "1. count와 k 변수를 각각 0과 1로 초기화\n",
        "2. k 가 n의 제곱근보다 작거나 같을 때까지 반복\n",
        "\n",
        "> k^2이 n보다 작거나 같은 경우 count를 1 증가시킨다.\n",
        "\n",
        "> k를 1 증가시킨다.\n",
        "\n",
        "3. count 값 반환환"
      ],
      "metadata": {
        "id": "oyhuOXCUjCgx"
      }
    },
    {
      "cell_type": "code",
      "source": [
        "def do_something(n):\n",
        "    count, k = 0, 1\n",
        "    while k * k <= n:\n",
        "        count += 1\n",
        "        k += 1\n",
        "    return count\n",
        "\n",
        "n = 25\n",
        "do_something(n) # 1,4,9,16,25"
      ],
      "metadata": {
        "colab": {
          "base_uri": "https://localhost:8080/"
        },
        "id": "eJjs4xy3jDS7",
        "outputId": "c4a40376-d40c-469a-c168-253755de3fce"
      },
      "execution_count": 7,
      "outputs": [
        {
          "output_type": "execute_result",
          "data": {
            "text/plain": [
              "5"
            ]
          },
          "metadata": {},
          "execution_count": 7
        }
      ]
    },
    {
      "cell_type": "markdown",
      "source": [
        "### 5.정수 n보다 작은 최대의 2의 거듭제곱 수를 찾고 그 거듭제곱 수의 지수를 계산하는 함수\n",
        "\n",
        "---\n",
        "\n",
        "1. k와 count 변수를 각각 1과 0으로 초기화합니다.\n",
        "2. k가 n보다 작을 때까지 반복합니다.\n",
        "    > k를 2배로 늘립니다.\n",
        "\n",
        "    > count를 1 증가시킵니다.\n",
        "\n",
        "3. count 값을 반환합니다."
      ],
      "metadata": {
        "id": "8uqZrR8TlfLX"
      }
    },
    {
      "cell_type": "code",
      "source": [
        "def do_something(n):\n",
        "    k, count = 1, 0\n",
        "    while k < n:\n",
        "        k *= 2\n",
        "        count += 1\n",
        "    return count\n",
        "\n",
        "n=17\n",
        "do_something(n) #16=2^5 count = 5"
      ],
      "metadata": {
        "colab": {
          "base_uri": "https://localhost:8080/"
        },
        "id": "aFN0fc5rl1DT",
        "outputId": "48ba7e9e-5094-4d59-9c0c-236aaec281b8"
      },
      "execution_count": 8,
      "outputs": [
        {
          "output_type": "execute_result",
          "data": {
            "text/plain": [
              "5"
            ]
          },
          "metadata": {},
          "execution_count": 8
        }
      ]
    },
    {
      "cell_type": "markdown",
      "source": [
        "### 6.주어진 정수 n을 이진수로 변환할 때 필요한 비트(bit)의 수를 계산하는 함수\n",
        "\n",
        "---\n",
        "\n",
        "1. count 변수를 0으로 초기화합니다.\n",
        "2. n이 0보다 큰 경우 반복합니다.\n",
        "\n",
        "    > n을 2로 나눕니다.\n",
        "\n",
        "    > count를 1 증가시킵니다.\n",
        "\n",
        "3. count 값을 반환합니다.\n",
        "\n",
        "여기서 중요한 점은 2진수 변환을 할 때는 2로 나누면서 나머지를 저장하는 방식을 사용한다. 따라서 n이 0보다 큰 동안 n을 2로 나누면서 count 값을 1씩 증가시켜주면 필요한 비트의 수를 계산할 수 있다."
      ],
      "metadata": {
        "id": "86p5LDo-mNwT"
      }
    },
    {
      "cell_type": "code",
      "source": [
        "def number_of_bits(n):\n",
        "    count = 0\n",
        "    while n > 0:\n",
        "        n //= 2\n",
        "        count += 1\n",
        "    return count\n",
        "\n",
        "n = 25\n",
        "number_of_bits(n) #25를 이진수로 변환하면 11001이므로 5개의 비트 필요요"
      ],
      "metadata": {
        "colab": {
          "base_uri": "https://localhost:8080/"
        },
        "id": "yHnkR1VXm3SU",
        "outputId": "63f1ede3-3459-406b-bc11-38c4677326f3"
      },
      "execution_count": 9,
      "outputs": [
        {
          "output_type": "execute_result",
          "data": {
            "text/plain": [
              "5"
            ]
          },
          "metadata": {},
          "execution_count": 9
        }
      ]
    }
  ]
}
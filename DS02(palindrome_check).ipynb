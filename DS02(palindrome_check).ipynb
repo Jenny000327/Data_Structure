{
  "nbformat": 4,
  "nbformat_minor": 0,
  "metadata": {
    "colab": {
      "provenance": [],
      "authorship_tag": "ABX9TyNM1ONb327eaacgEMywCcTL",
      "include_colab_link": true
    },
    "kernelspec": {
      "name": "python3",
      "display_name": "Python 3"
    },
    "language_info": {
      "name": "python"
    }
  },
  "cells": [
    {
      "cell_type": "markdown",
      "metadata": {
        "id": "view-in-github",
        "colab_type": "text"
      },
      "source": [
        "<a href=\"https://colab.research.google.com/github/Jenny000327/Data_Structure/blob/main/DS02(palindrome_check).ipynb\" target=\"_parent\"><img src=\"https://colab.research.google.com/assets/colab-badge.svg\" alt=\"Open In Colab\"/></a>"
      ]
    },
    {
      "cell_type": "markdown",
      "source": [],
      "metadata": {
        "id": "jqcF2HF-PvRL"
      }
    },
    {
      "cell_type": "code",
      "execution_count": 3,
      "metadata": {
        "colab": {
          "base_uri": "https://localhost:8080/"
        },
        "id": "9AaDH8TrPuLl",
        "outputId": "d2572fd1-8eca-4ef4-c57c-2a948a6dc0be"
      },
      "outputs": [
        {
          "output_type": "stream",
          "name": "stdout",
          "text": [
            "salsa\n",
            "False\n"
          ]
        }
      ],
      "source": [
        "class deque():\n",
        "    items = [] # list 선언 \n",
        "\n",
        "    def __init__(self, s):\n",
        "        self.items = list(s)\n",
        "        \n",
        "    def append(self, c):\n",
        "        self.items.append(c)\n",
        "  \n",
        "    def appendleft(self, c):\n",
        "        self.items.insert(0, c)\n",
        "    \n",
        "    def pop(self):\n",
        "        return self.items.pop()\n",
        "  \n",
        "    def popleft(self):\n",
        "        return self.items.pop(0)\n",
        "    \n",
        "    def __len__(self):\n",
        "        return len(self.items)\n",
        "    \n",
        "    def right(self):\n",
        "        return self.items[-1]\n",
        "    \n",
        "    def left(self):\n",
        "        return self.items[0]\n",
        "\n",
        "# -------------------------------------\n",
        "def check_palindrome(s):\n",
        "    dq = deque(s)\n",
        "    palindrome = True\n",
        "    while len(dq) > 1:\n",
        "        if dq.popleft() != dq.pop():\n",
        "            palindrome = False\n",
        "    return palindrome\n",
        "\n",
        "# __main__\n",
        "user_input = input()\n",
        "print(check_palindrome(user_input))"
      ]
    }
  ]
}